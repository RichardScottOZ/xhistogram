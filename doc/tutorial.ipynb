{
 "cells": [
  {
   "cell_type": "markdown",
   "metadata": {},
   "source": [
    "# Xhistogram Tutorial\n",
    "\n",
    "Histograms are the foundation of many forms of data analysis.\n",
    "The goal of xhistogram is to make it easy to calculate weighted histograms in multiple dimensions over n-dimensional arrays, with control over the axes.\n",
    "Xhistogram builds on top of xarray, for automatic coordiantes and labels, and dask, for parallel scalability."
   ]
  },
  {
   "cell_type": "markdown",
   "metadata": {},
   "source": [
    "## Toy Data\n",
    "\n",
    "We start by showing an example with toy data. First we use xarray to create some random, normally distributed data.\n",
    "\n",
    "### 1D Histogram"
   ]
  },
  {
   "cell_type": "code",
   "execution_count": null,
   "metadata": {},
   "outputs": [],
   "source": [
    "import xarray as xr\n",
    "import numpy as np\n",
    "%matplotlib inline\n",
    "\n",
    "nt, nx = 100, 30\n",
    "da = xr.DataArray(np.random.randn(nt, nx), dims=['time', 'x'],\n",
    "                  name='foo') # all inputs need a name\n",
    "display(da)\n",
    "da.plot()"
   ]
  },
  {
   "cell_type": "markdown",
   "metadata": {},
   "source": [
    "By default xhistogram operates on all dimensions of an array, just like numpy. However, it operates on xarray DataArrays, taking labels into account."
   ]
  },
  {
   "cell_type": "code",
   "execution_count": null,
   "metadata": {},
   "outputs": [],
   "source": [
    "from xhistogram.xarray import histogram\n",
    "\n",
    "bins = np.linspace(-4, 4, 20)\n",
    "h = histogram(da, bins=[bins])\n",
    "display(h)\n",
    "h.plot()"
   ]
  },
  {
   "cell_type": "markdown",
   "metadata": {},
   "source": [
    "**TODO:** \n",
    "- Bins needs to be a list; this is annoying, would be good to accept single items\n",
    "- The `foo_bin` coordinate is the estimated bin center, not the bounds. We need to add the bounds to the coordinates, but we can as long as we are returning DataArray and not Dataset.\n",
    "\n",
    "Both of the above need GitHub Issues\n",
    "\n",
    "### Histogram over a single axis"
   ]
  },
  {
   "cell_type": "code",
   "execution_count": null,
   "metadata": {},
   "outputs": [],
   "source": [
    "h_x = histogram(da, bins=[bins], dim=['time'])\n",
    "h_x.plot()"
   ]
  },
  {
   "cell_type": "markdown",
   "metadata": {},
   "source": [
    "**TODO:**\n",
    "  - Relax / explain requirement that dims is always a list"
   ]
  },
  {
   "cell_type": "code",
   "execution_count": null,
   "metadata": {},
   "outputs": [],
   "source": [
    "h_x.mean(dim='x').plot()"
   ]
  },
  {
   "cell_type": "markdown",
   "metadata": {},
   "source": [
    "### Weighted Histogram\n",
    "\n",
    "Weights can be the same shape as the input:"
   ]
  },
  {
   "cell_type": "code",
   "execution_count": null,
   "metadata": {},
   "outputs": [],
   "source": [
    "weights = 0.4 * xr.ones_like(da)\n",
    "histogram(da, bins=[bins], weights=weights)"
   ]
  },
  {
   "cell_type": "markdown",
   "metadata": {},
   "source": [
    "Or can use Xarray broadcasting:"
   ]
  },
  {
   "cell_type": "code",
   "execution_count": null,
   "metadata": {},
   "outputs": [],
   "source": [
    "weights = 0.2 * xr.ones_like(da.x)\n",
    "histogram(da, bins=[bins], weights=weights)"
   ]
  },
  {
   "cell_type": "markdown",
   "metadata": {},
   "source": [
    "## 2D Histogram\n",
    "\n",
    "Now let's say we have multiple input arrays. We can calculate their joint distribution:"
   ]
  },
  {
   "cell_type": "code",
   "execution_count": null,
   "metadata": {},
   "outputs": [],
   "source": [
    "db = xr.DataArray(np.random.randn(nt, nx), dims=['time', 'x'],\n",
    "                  name='bar') - 2\n",
    "\n",
    "histogram(da, db, bins=[bins, bins]).plot()"
   ]
  },
  {
   "cell_type": "markdown",
   "metadata": {},
   "source": [
    "## Real Data\n",
    "\n",
    "TODO\n",
    "\n",
    "## Dask Integration\n",
    "\n",
    "Should just work, but need examples."
   ]
  },
  {
   "cell_type": "code",
   "execution_count": null,
   "metadata": {},
   "outputs": [],
   "source": []
  }
 ],
 "metadata": {
  "kernelspec": {
   "display_name": "Python 3",
   "language": "python",
   "name": "python3"
  },
  "language_info": {
   "codemirror_mode": {
    "name": "ipython",
    "version": 3
   },
   "file_extension": ".py",
   "mimetype": "text/x-python",
   "name": "python",
   "nbconvert_exporter": "python",
   "pygments_lexer": "ipython3",
   "version": "3.7.3"
  }
 },
 "nbformat": 4,
 "nbformat_minor": 4
}
